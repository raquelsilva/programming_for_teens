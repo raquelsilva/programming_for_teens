{
 "cells": [
  {
   "cell_type": "markdown",
   "metadata": {},
   "source": [
    "# Calculating and visualizing powers"
   ]
  },
  {
   "cell_type": "markdown",
   "metadata": {},
   "source": [
    "One time my son asked me: 'Mom, what is square root?\" and I noticed that I had memorized some values, I vaguely remembered how to calculate it without the help of a calculator but, what made me mistified was that I didn't really know what a square root actually is. Intrigued by this observation I started to ask some collegues (masters and PhD's) if they knew what a square root is but the same as me, they had memorized some operations and that was all. Well, at least the problem was not only with me :) \n",
    "\n",
    "After thinking a while I started to see a light by analysing the name \"square root\". In portuguese the translation doesn't really mean what it is written in English. In Brazil we say instead, \"root square\". This seems to be a detail but for me it makes a huge difference in the understanding of this matter. But even for people who talk English this subject it is not completely disclosed. For example, I searched at the internet using the question: \"What is square root?\" and I mostly find the same response; only some arithmetical explanation. But we are talking about squares!!! So, where are the squares? Why are they important? And what is the root of a square? I found the answer in a website for children, very interesting called [Math is fun](\"https://www.mathsisfun.com/square-root.html\"). And yes, I agree with them! \n",
    "\n",
    "First I was thinking that I was spacing out with my observations, but when I found someone else talking the same thing I thought that this really worth to be shared."
   ]
  },
  {
   "cell_type": "code",
   "execution_count": 1,
   "metadata": {
    "collapsed": true
   },
   "outputs": [],
   "source": [
    "from IPython.display import display, Latex"
   ]
  },
  {
   "cell_type": "raw",
   "metadata": {},
   "source": [
    "*** You can use this boxes as a calculator:  ***"
   ]
  },
  {
   "cell_type": "code",
   "execution_count": 2,
   "metadata": {},
   "outputs": [
    {
     "data": {
      "text/plain": [
       "4"
      ]
     },
     "execution_count": 2,
     "metadata": {},
     "output_type": "execute_result"
    }
   ],
   "source": [
    "2*2"
   ]
  },
  {
   "cell_type": "markdown",
   "metadata": {},
   "source": [
    "That is: $2 * 2$ = $2^2$ = 4"
   ]
  },
  {
   "cell_type": "code",
   "execution_count": 3,
   "metadata": {},
   "outputs": [
    {
     "data": {
      "text/plain": [
       "9"
      ]
     },
     "execution_count": 3,
     "metadata": {},
     "output_type": "execute_result"
    }
   ],
   "source": [
    "3*3"
   ]
  },
  {
   "cell_type": "markdown",
   "metadata": {},
   "source": [
    "That is: $3 x 3$ = $3^2$ = 9"
   ]
  },
  {
   "cell_type": "markdown",
   "metadata": {},
   "source": [
    "I can calculate powers repeating the same number by the number of times indicated by the power. Instead of using a specific number, I wil show the example using the letter $b$, meaning the base of a power. In Python, the multiplication signal is represented by the symbol $*$. See below:"
   ]
  },
  {
   "cell_type": "markdown",
   "metadata": {},
   "source": [
    "Power of $2$ = $b^2$ = $b *  b = r$ (result)"
   ]
  },
  {
   "cell_type": "markdown",
   "metadata": {},
   "source": [
    "Power of $3$ = $b^3$ = $b * b * b = r$"
   ]
  },
  {
   "cell_type": "markdown",
   "metadata": {},
   "source": [
    "Power of $4$ = $b^4$ = $b * b * b * b = r $, and so on."
   ]
  },
  {
   "cell_type": "markdown",
   "metadata": {},
   "source": [
    "So, a power can be written through the following expression: $b^e = r$, where $b$ is the base of the power, $e$ is the exponent and $r$ is the result. In Python, for calculating the power you just need to use the following command: $b* *e$, where $* *$ is the symbol used to calculate powers. So, to do the calculation you need to replace $b$ by one number or a set of numbers (here in Python) and $e$ by an integer. See bellow the example:"
   ]
  },
  {
   "cell_type": "code",
   "execution_count": 4,
   "metadata": {
    "collapsed": true
   },
   "outputs": [],
   "source": [
    "b = 3\n",
    "e = 2"
   ]
  },
  {
   "cell_type": "code",
   "execution_count": 5,
   "metadata": {},
   "outputs": [
    {
     "data": {
      "text/plain": [
       "9"
      ]
     },
     "execution_count": 5,
     "metadata": {},
     "output_type": "execute_result"
    }
   ],
   "source": [
    "b**e"
   ]
  },
  {
   "cell_type": "markdown",
   "metadata": {},
   "source": [
    "So, when the base is equals to 3 and the exponent is equals to 2 (that is, $3^2$), the result is equals to 9 $(3^2$ or    $3x3 = 9)$."
   ]
  },
  {
   "cell_type": "markdown",
   "metadata": {},
   "source": [
    "# Graph of the square power - visualizing squares:"
   ]
  },
  {
   "cell_type": "markdown",
   "metadata": {},
   "source": [
    "I will create a set of numbers from 1 to 10 for the base of the power. You will note that in Python it is necessary to understand the difference between a list and an array."
   ]
  },
  {
   "cell_type": "markdown",
   "metadata": {},
   "source": [
    "In this example below I have created a list with 10 numbers. "
   ]
  },
  {
   "cell_type": "code",
   "execution_count": 6,
   "metadata": {},
   "outputs": [
    {
     "name": "stdout",
     "output_type": "stream",
     "text": [
      "[1, 2, 3, 4, 5, 6, 7, 8, 9, 10]\n"
     ]
    }
   ],
   "source": [
    "b_list = [1, 2, 3, 4, 5, 6, 7, 8, 9, 10]      \n",
    "print b_list                              # prints the value inside of the parameter b_list"
   ]
  },
  {
   "cell_type": "markdown",
   "metadata": {},
   "source": [
    "But, it is not possible to interact individually with each of them because the content in a list is considered as 'tuple' or 'list'  and not as numbers. Let's see the difference of type between the parameter b and the parameter b_list."
   ]
  },
  {
   "cell_type": "code",
   "execution_count": 7,
   "metadata": {},
   "outputs": [
    {
     "data": {
      "text/plain": [
       "int"
      ]
     },
     "execution_count": 7,
     "metadata": {},
     "output_type": "execute_result"
    }
   ],
   "source": [
    "type(b)    # I created this parameter above and it has the value of 3"
   ]
  },
  {
   "cell_type": "code",
   "execution_count": 8,
   "metadata": {},
   "outputs": [
    {
     "data": {
      "text/plain": [
       "list"
      ]
     },
     "execution_count": 8,
     "metadata": {},
     "output_type": "execute_result"
    }
   ],
   "source": [
    "type(b_list)     # b_list is a set of numbers from 1 to 10"
   ]
  },
  {
   "cell_type": "code",
   "execution_count": 9,
   "metadata": {},
   "outputs": [
    {
     "ename": "TypeError",
     "evalue": "unsupported operand type(s) for ** or pow(): 'list' and 'int'",
     "output_type": "error",
     "traceback": [
      "\u001b[0;31m---------------------------------------------------------------------------\u001b[0m",
      "\u001b[0;31mTypeError\u001b[0m                                 Traceback (most recent call last)",
      "\u001b[0;32m<ipython-input-9-d6e6295e82e1>\u001b[0m in \u001b[0;36m<module>\u001b[0;34m()\u001b[0m\n\u001b[0;32m----> 1\u001b[0;31m \u001b[0mb_list\u001b[0m\u001b[0;34m**\u001b[0m\u001b[0;36m2\u001b[0m\u001b[0;34m\u001b[0m\u001b[0m\n\u001b[0m",
      "\u001b[0;31mTypeError\u001b[0m: unsupported operand type(s) for ** or pow(): 'list' and 'int'"
     ]
    }
   ],
   "source": [
    "b_list**2       "
   ]
  },
  {
   "cell_type": "markdown",
   "metadata": {},
   "source": [
    "When I try to do this operation using the list, the program's compiler gives me the messege above where: 'list' is <b>b_list</b> and 'int' is an integer. The $pow(  )$ command can also be used to calculate powers, but it needs two integers to complete the operation: the base and the power. Look below:"
   ]
  },
  {
   "cell_type": "code",
   "execution_count": 10,
   "metadata": {},
   "outputs": [
    {
     "data": {
      "text/plain": [
       "9"
      ]
     },
     "execution_count": 10,
     "metadata": {},
     "output_type": "execute_result"
    }
   ],
   "source": [
    "pow(3,2)    # first number is the base and second number is the exponent."
   ]
  },
  {
   "cell_type": "markdown",
   "metadata": {},
   "source": [
    "So, the result of the operation: $3^2 = 9$."
   ]
  },
  {
   "cell_type": "markdown",
   "metadata": {},
   "source": [
    "We can work aroud this issue creating an $array$ instead of a list with the help of a Python module called $numpy$. Using an array I will be able to do mathematical operations because each element can be operated individually due to the array properties. You will learn more in detail about array properties in the high school. Now, you just need to understand the difference between one dimentional and two dimentional representation of data."
   ]
  },
  {
   "cell_type": "markdown",
   "metadata": {},
   "source": [
    "Lists are one dimensional sets of data which can be manipulated but with few features. None of them are mathematical operations but ways to add and remove new data or to organize your list. For example, from the <b>b_list</b>, let's check the index (position) of some numbers:"
   ]
  },
  {
   "cell_type": "code",
   "execution_count": 11,
   "metadata": {},
   "outputs": [
    {
     "name": "stdout",
     "output_type": "stream",
     "text": [
      "[1, 2, 3, 4, 5, 6, 7, 8, 9, 10]\n"
     ]
    }
   ],
   "source": [
    "b_list = [1, 2, 3, 4, 5, 6, 7, 8, 9, 10]\n",
    "print b_list"
   ]
  },
  {
   "cell_type": "code",
   "execution_count": 12,
   "metadata": {},
   "outputs": [
    {
     "data": {
      "text/plain": [
       "0"
      ]
     },
     "execution_count": 12,
     "metadata": {},
     "output_type": "execute_result"
    }
   ],
   "source": [
    "b_list.index(1)  # find the position of the number 1 in b_list"
   ]
  },
  {
   "cell_type": "markdown",
   "metadata": {},
   "source": [
    "The result is zero. It means that for Python, the <b>counter</b> starts in <b>zero</b> and not in <b>one</b>. This is very important to remember!!!"
   ]
  },
  {
   "cell_type": "markdown",
   "metadata": {},
   "source": [
    "Let's check now the position of the number 4:"
   ]
  },
  {
   "cell_type": "code",
   "execution_count": 13,
   "metadata": {},
   "outputs": [
    {
     "data": {
      "text/plain": [
       "3"
      ]
     },
     "execution_count": 13,
     "metadata": {},
     "output_type": "execute_result"
    }
   ],
   "source": [
    "b_list.index(4)"
   ]
  },
  {
   "cell_type": "markdown",
   "metadata": {},
   "source": [
    "Now I will add one number to b_list:"
   ]
  },
  {
   "cell_type": "code",
   "execution_count": 14,
   "metadata": {
    "collapsed": true
   },
   "outputs": [],
   "source": [
    "b_list.append(11)"
   ]
  },
  {
   "cell_type": "code",
   "execution_count": 15,
   "metadata": {},
   "outputs": [
    {
     "name": "stdout",
     "output_type": "stream",
     "text": [
      "[1, 2, 3, 4, 5, 6, 7, 8, 9, 10, 11]\n"
     ]
    }
   ],
   "source": [
    "print b_list"
   ]
  },
  {
   "cell_type": "markdown",
   "metadata": {},
   "source": [
    "Now, I will change the order of the numbers:"
   ]
  },
  {
   "cell_type": "code",
   "execution_count": 16,
   "metadata": {
    "collapsed": true
   },
   "outputs": [],
   "source": [
    "b_list.reverse()"
   ]
  },
  {
   "cell_type": "code",
   "execution_count": 17,
   "metadata": {},
   "outputs": [
    {
     "name": "stdout",
     "output_type": "stream",
     "text": [
      "[11, 10, 9, 8, 7, 6, 5, 4, 3, 2, 1]\n"
     ]
    }
   ],
   "source": [
    "print b_list"
   ]
  },
  {
   "cell_type": "markdown",
   "metadata": {},
   "source": [
    "To understand the two dimensional space I will plot a square and we will be able to calculate the area of the square geometrically. For this I will use a graph with two axes (x and Y). Conventionally, the horizontal axis is called $x$ and the vertical axis is called $y$. To build a square the only thing I need to know is the size of one side of the square. Do you know why? It is because a square has the four sides of the same length. For example, I will create a graph with one square which has side equals to 5."
   ]
  },
  {
   "cell_type": "code",
   "execution_count": 18,
   "metadata": {},
   "outputs": [
    {
     "data": {
      "image/png": "[encoded data removed]",
      "text/plain": [
       "<matplotlib.figure.Figure at 0x1097cd510>"
      ]
     },
     "metadata": {},
     "output_type": "display_data"
    }
   ],
   "source": [
    "import matplotlib.pyplot as plt\n",
    "\n",
    "fig, ax = plt.subplots()\n",
    "\n",
    "font = {'family': 'serif',\n",
    "        'color':  'darkred',\n",
    "        'weight': 'normal',\n",
    "        'size': 13,\n",
    "        }\n",
    "\n",
    "font1 = {'family': 'serif',                # set the color of the text\n",
    "        'color':  'green',\n",
    "        'weight': 'normal',\n",
    "        'size': 16,\n",
    "        }\n",
    "\n",
    "font2 = {'family': 'serif',                # set the color of the text\n",
    "        'color':  'blue',\n",
    "        'weight': 'normal',\n",
    "        'size': 16,\n",
    "        }\n",
    "\n",
    "ax.broken_barh([(0, 5)], (0, 5), facecolors=('yellow'))\n",
    "\n",
    "plt.text(0.35, 4.35, r'1', fontdict=font)\n",
    "plt.text(1.35, 4.35, r'2', fontdict=font)\n",
    "plt.text(2.35, 4.35, r'3', fontdict=font)\n",
    "plt.text(3.35, 4.35, r'4', fontdict=font)\n",
    "plt.text(4.35, 4.35, r'5', fontdict=font)\n",
    "plt.text(0.35, 3.35, r'6', fontdict=font)\n",
    "plt.text(1.35, 3.35, r'7', fontdict=font)\n",
    "plt.text(2.35, 3.35, r'8', fontdict=font)\n",
    "plt.text(3.35, 3.35, r'9', fontdict=font)\n",
    "plt.text(4.25, 3.35, r'10', fontdict=font)\n",
    "plt.text(0.25, 2.35, r'11', fontdict=font)\n",
    "plt.text(1.25, 2.35, r'12', fontdict=font)\n",
    "plt.text(2.25, 2.35, r'13', fontdict=font)\n",
    "plt.text(3.25, 2.35, r'14', fontdict=font)\n",
    "plt.text(4.25, 2.35, r'15', fontdict=font)\n",
    "plt.text(0.25, 1.35, r'16', fontdict=font)\n",
    "plt.text(1.25, 1.35, r'17', fontdict=font)\n",
    "plt.text(2.25, 1.35, r'18', fontdict=font)\n",
    "plt.text(3.25, 1.35, r'19', fontdict=font)\n",
    "plt.text(4.25, 1.35, r'20', fontdict=font)\n",
    "plt.text(0.25, 0.35, r'21', fontdict=font)\n",
    "plt.text(1.25, 0.35, r'22', fontdict=font)\n",
    "plt.text(2.25, 0.35, r'23', fontdict=font)\n",
    "plt.text(3.25, 0.35, r'24', fontdict=font)\n",
    "plt.text(4.25, 0.35, r'25', fontdict=font)\n",
    "\n",
    "plt.gca().set_aspect('equal', adjustable='box')\n",
    "\n",
    "plt.xlabel('X Axis', fontdict=font1)       # Text to identify the axis\n",
    "plt.ylabel('Y Axis', fontdict=font2)       # Text to identify the axis\n",
    "\n",
    "ax.set_ylim(0, 7)\n",
    "ax.set_xlim(0, 7)\n",
    "ax.grid(True)\n",
    "\n",
    "plt.show()"
   ]
  },
  {
   "cell_type": "markdown",
   "metadata": {},
   "source": [
    "If you count the number of little squares inside of the big yellow square you will find the area of this square because: \n",
    " - square_area = side x side or square_area = side$^2$. Let's check arithmetically?"
   ]
  },
  {
   "cell_type": "code",
   "execution_count": 19,
   "metadata": {
    "collapsed": true
   },
   "outputs": [],
   "source": [
    "side = 5"
   ]
  },
  {
   "cell_type": "code",
   "execution_count": 20,
   "metadata": {},
   "outputs": [
    {
     "name": "stdout",
     "output_type": "stream",
     "text": [
      "25\n"
     ]
    }
   ],
   "source": [
    "area_square = side * side\n",
    "\n",
    "print area_square"
   ]
  },
  {
   "cell_type": "code",
   "execution_count": 21,
   "metadata": {},
   "outputs": [
    {
     "name": "stdout",
     "output_type": "stream",
     "text": [
      "25\n"
     ]
    }
   ],
   "source": [
    "area_square = side**2\n",
    "\n",
    "print area_square"
   ]
  },
  {
   "cell_type": "markdown",
   "metadata": {},
   "source": [
    "So, now you can attest that side multiplied by side is equals to side$^2$ (square side)."
   ]
  },
  {
   "cell_type": "markdown",
   "metadata": {},
   "source": [
    "That list of numbers created above manually (inside of the yellow square) could be created automatically using one array. It is possible because each number is identified spatially by a pair of coordinates (x,y). For example: What is the coordinate of the number 19? The answer is: the value of x is a number in between 3 and 4. Let's consider that the x = 3.5. And y is equals to a number in the half way from 1 to 2. Let's consider that y = 1.5. We will learn about rounding in the next lessons. You will see that this is not a big problem here and it will be easier to understand the matter. So, the number 19 is associated with the pair of coordinates (3.5, 1.5), that is: x=3.5 and y=1.5. In an array each number is also identified by a pair of coordinates. But, instead of x and y, it is used conventionally the pair of letters $i$ and $j$ to represent them. For example, an array $A_{3x2}$ means that it has three rows (or $i=3$) and two columns (or $j=2$). For $i$ and $j$ only positive integers are accepted because that numbers represent the amount of rows and columns of an array."
   ]
  },
  {
   "cell_type": "markdown",
   "metadata": {},
   "source": [
    "So, to create an array I need to import the module $numpy$:"
   ]
  },
  {
   "cell_type": "code",
   "execution_count": 22,
   "metadata": {
    "collapsed": true
   },
   "outputs": [],
   "source": [
    "import numpy as np"
   ]
  },
  {
   "cell_type": "markdown",
   "metadata": {},
   "source": [
    "And then I will use the command $np.linspace$, which return evenly spaced numbers over a specified interval."
   ]
  },
  {
   "cell_type": "code",
   "execution_count": 23,
   "metadata": {
    "collapsed": true
   },
   "outputs": [],
   "source": [
    "array = np.linspace(1, 25, 25)      # (1 = first number of the set, 25 = last number of the set, 25 = total of number of the set)"
   ]
  },
  {
   "cell_type": "code",
   "execution_count": 24,
   "metadata": {},
   "outputs": [
    {
     "name": "stdout",
     "output_type": "stream",
     "text": [
      "[  1.   2.   3.   4.   5.   6.   7.   8.   9.  10.  11.  12.  13.  14.  15.\n",
      "  16.  17.  18.  19.  20.  21.  22.  23.  24.  25.]\n"
     ]
    }
   ],
   "source": [
    "print array"
   ]
  },
  {
   "cell_type": "markdown",
   "metadata": {},
   "source": [
    "This command creates an array with one row and the number of columns is equals to the number of numbers of your set. To convert this array in a $A<sub>5x5</sub>, as shown at the yellow square above I will need to reshape it:"
   ]
  },
  {
   "cell_type": "code",
   "execution_count": 25,
   "metadata": {
    "collapsed": true
   },
   "outputs": [],
   "source": [
    "array_5x5 = np.linspace(1,25,25).reshape(5, 5)   # "
   ]
  },
  {
   "cell_type": "code",
   "execution_count": 26,
   "metadata": {},
   "outputs": [
    {
     "name": "stdout",
     "output_type": "stream",
     "text": [
      "[[  1.   2.   3.   4.   5.]\n",
      " [  6.   7.   8.   9.  10.]\n",
      " [ 11.  12.  13.  14.  15.]\n",
      " [ 16.  17.  18.  19.  20.]\n",
      " [ 21.  22.  23.  24.  25.]]\n"
     ]
    }
   ],
   "source": [
    "print array_5x5"
   ]
  },
  {
   "cell_type": "markdown",
   "metadata": {},
   "source": [
    "An array can be imagined as table, but it is not restricted to it because it can also represent a two dimensional space, for example. But, as seen above, an array can have only one row or only one column. Or, otherwise, many rows and columns. See the example bellow:"
   ]
  },
  {
   "cell_type": "markdown",
   "metadata": {},
   "source": [
    "From a the b_list I will create an array:"
   ]
  },
  {
   "cell_type": "code",
   "execution_count": 27,
   "metadata": {
    "collapsed": true
   },
   "outputs": [],
   "source": [
    "b_list=[1, 2, 3, 4, 5, 6, 7, 8, 9, 10]"
   ]
  },
  {
   "cell_type": "code",
   "execution_count": 28,
   "metadata": {},
   "outputs": [
    {
     "data": {
      "text/plain": [
       "array([ 1,  2,  3,  4,  5,  6,  7,  8,  9, 10])"
      ]
     },
     "execution_count": 28,
     "metadata": {},
     "output_type": "execute_result"
    }
   ],
   "source": [
    "array = np.array(b_list)\n",
    "array"
   ]
  },
  {
   "cell_type": "markdown",
   "metadata": {},
   "source": [
    "Now I will do the operation b**2 using the array instead of the values of b_list:"
   ]
  },
  {
   "cell_type": "code",
   "execution_count": 29,
   "metadata": {},
   "outputs": [
    {
     "data": {
      "text/plain": [
       "array([  1,   4,   9,  16,  25,  36,  49,  64,  81, 100])"
      ]
     },
     "execution_count": 29,
     "metadata": {},
     "output_type": "execute_result"
    }
   ],
   "source": [
    "array**2"
   ]
  },
  {
   "cell_type": "markdown",
   "metadata": {},
   "source": [
    "So, now we have a list with the bases of ten squares (b_list) and also its areas (array). Remember that the area of a square is equals to the the power of 2."
   ]
  },
  {
   "cell_type": "code",
   "execution_count": 30,
   "metadata": {
    "collapsed": true
   },
   "outputs": [],
   "source": [
    "squares_area = array * array   # remember: the area of a square is equals to side multiplied by side"
   ]
  },
  {
   "cell_type": "code",
   "execution_count": 31,
   "metadata": {},
   "outputs": [
    {
     "name": "stdout",
     "output_type": "stream",
     "text": [
      "[  1   4   9  16  25  36  49  64  81 100]\n"
     ]
    }
   ],
   "source": [
    "print squares_area"
   ]
  },
  {
   "cell_type": "markdown",
   "metadata": {},
   "source": [
    "It is because of that that the power of 2 is called \"square\"; for any number the power of two will give as result the area of a square."
   ]
  },
  {
   "cell_type": "markdown",
   "metadata": {},
   "source": [
    "Let's plot the squares in a graph:"
   ]
  },
  {
   "cell_type": "code",
   "execution_count": 32,
   "metadata": {},
   "outputs": [
    {
     "data": {
      "text/plain": [
       "array([  1,   4,   9,  16,  25,  36,  49,  64,  81, 100])"
      ]
     },
     "execution_count": 32,
     "metadata": {},
     "output_type": "execute_result"
    }
   ],
   "source": [
    "x = y = squares_area\n",
    "x      #imprime os valores de x abaixo"
   ]
  },
  {
   "cell_type": "code",
   "execution_count": 33,
   "metadata": {},
   "outputs": [
    {
     "data": {
      "image/png": "[encoded data removed]",
      "text/plain": [
       "<matplotlib.figure.Figure at 0x112939490>"
      ]
     },
     "metadata": {},
     "output_type": "display_data"
    }
   ],
   "source": [
    "fig, ax = plt.subplots(figsize=(15, 15))\n",
    "\n",
    "ax.broken_barh([(81, 19)], (81, 19), facecolors=('#9400D3'))\n",
    "ax.broken_barh([(64, 17)], (64, 17), facecolors=('#4B0082'))\n",
    "ax.broken_barh([(49, 15)], (49, 15), facecolors=('#0000FF'))\n",
    "ax.broken_barh([(36, 13)], (36, 13), facecolors=('#00FF00'))\n",
    "ax.broken_barh([(25, 11)], (25, 11), facecolors=('#FFFF00'))\n",
    "ax.broken_barh([(16, 9)], (16, 9), facecolors=('#FF7F00'))\n",
    "ax.broken_barh([(9, 7)], (9, 7), facecolors=('#ff5959'))\n",
    "ax.broken_barh([(4, 5)], (4, 5), facecolors=('cyan'))\n",
    "ax.broken_barh([(1, 3)], (1, 3), facecolors=('gray'))\n",
    "ax.broken_barh([(0, 1)], (0, 1), facecolors=('black'))\n",
    "\n",
    "plt.plot(x, y, marker='o', color='red')\n",
    "\n",
    "ax.set_ylim(0, 105)\n",
    "ax.set_xlim(0, 105)\n",
    "ax.grid(True, which='both', color='black', linestyle=':')\n",
    "\n",
    "plt.minorticks_on()\n",
    "\n",
    "plt.show()\n"
   ]
  },
  {
   "cell_type": "markdown",
   "metadata": {},
   "source": [
    "The set of squares observed above is known as <b>geometric sequence</b>, which is defined as \"a series with a constant ratio between successive terms\". We will check below what is the ratio of this sequence."
   ]
  },
  {
   "cell_type": "markdown",
   "metadata": {},
   "source": [
    "Now, let's exercise our observation. Only by looking to the image above you can see any relationship among the squares, the dots and the red line?"
   ]
  },
  {
   "cell_type": "markdown",
   "metadata": {},
   "source": [
    "I could see some:"
   ]
  },
  {
   "cell_type": "markdown",
   "metadata": {},
   "source": [
    "- First observation: when the dots representing the result of the power of two are linked they connect all the squares;\n",
    "- Second: the dots near the origin of the graph (near zero) are closer to each other. The space between the dots increases if the result increases.\n",
    "- The size of the squares increases if the result increases.\n",
    "- If you subtract the higher value result of the next value of the sequence (in inverse order) you will find other sequence which grows linearly, that is, grows in a fixed amount. For example: $100-81=19$, $81-64=17$, $64-49=15$, $36-49=13$, $36-25=11$, $25-16=9$, $16-9=7$, $9-4=5$, $4-1=3$, $1-0=1$. So, this second sequence increases in a fixed ratio which is equals to 2. Let's create a new set of values with the results calculated above, but in ascending order:\n"
   ]
  },
  {
   "cell_type": "code",
   "execution_count": 34,
   "metadata": {
    "collapsed": true
   },
   "outputs": [],
   "source": [
    "mysterious_sequence =(1, 3, 5, 9, 11, 13, 15, 17, 19)"
   ]
  },
  {
   "cell_type": "markdown",
   "metadata": {},
   "source": [
    "Note that in this sequence the ratio is equals to 2 (could also be a multiple of two) and was obtained after two iterations. To visualize the operation, observe the image below:"
   ]
  },
  {
   "cell_type": "code",
   "execution_count": 35,
   "metadata": {},
   "outputs": [
    {
     "data": {
      "image/jpeg": "[encoded data removed]",
      "text/plain": [
       "<IPython.core.display.Image object>"
      ]
     },
     "execution_count": 35,
     "metadata": {},
     "output_type": "execute_result"
    }
   ],
   "source": [
    "from IPython.display import Image\n",
    "Image(\"images/quadratic_sequence.jpg\")"
   ]
  },
  {
   "cell_type": "markdown",
   "metadata": {},
   "source": [
    "When the decomposition of the sequence reaches the <b>ratio factor</b> It is said that the \"<b>series has converged</b>\". This term is very commom in computer sciences and it means that an algorithm was alble to solve a function. This series has converged after 2 <b>iterations</b>. It means that the same operation was realized a certain number of times. In this case, two times and the operation which is being repeated is the subtraction of the last term of a set of numbers minus the previous one.  "
   ]
  },
  {
   "cell_type": "markdown",
   "metadata": {},
   "source": [
    "It is possible to find the place of the terms of a list through its indices. Look bellow how I find the last term of the set \"mysterious_sequence\":"
   ]
  },
  {
   "cell_type": "code",
   "execution_count": 36,
   "metadata": {},
   "outputs": [
    {
     "data": {
      "text/plain": [
       "19"
      ]
     },
     "execution_count": 36,
     "metadata": {},
     "output_type": "execute_result"
    }
   ],
   "source": [
    "mysterious_sequence[8]"
   ]
  },
  {
   "cell_type": "markdown",
   "metadata": {},
   "source": [
    "Counting the total number of the set above I can find the index of the last number. But remember that Pyton starts to count from 0 not from 1!!! Because of it the number of the last index is the total number of elements minus 1, that is: 9 - 1 = 8."
   ]
  },
  {
   "cell_type": "markdown",
   "metadata": {},
   "source": [
    "Working with arrays we can write this operation using the indices $i$ and $j$. Python, additionally has a different way to find the terms inside of an array. "
   ]
  },
  {
   "cell_type": "markdown",
   "metadata": {},
   "source": [
    "The first thing we can do using arrays, that we could not do using a list, is to find the size of the set without the need to count them manually. For this we need first to convert the list into an array:"
   ]
  },
  {
   "cell_type": "code",
   "execution_count": 37,
   "metadata": {},
   "outputs": [],
   "source": [
    "mysterious_sequence = np.array(mysterious_sequence)    # converting a list into an array"
   ]
  },
  {
   "cell_type": "markdown",
   "metadata": {},
   "source": [
    "And know, let's \"count\" them:"
   ]
  },
  {
   "cell_type": "code",
   "execution_count": 38,
   "metadata": {},
   "outputs": [
    {
     "name": "stdout",
     "output_type": "stream",
     "text": [
      "9\n"
     ]
    }
   ],
   "source": [
    "N = mysterious_sequence.size   # counting the number of elements inside of the set\n",
    "print N"
   ]
  },
  {
   "cell_type": "markdown",
   "metadata": {},
   "source": [
    "With the number of elements we can find the index of the last number of the the \"mysterious_sequence\" using a typical notation for Python:"
   ]
  },
  {
   "cell_type": "code",
   "execution_count": 39,
   "metadata": {
    "collapsed": true
   },
   "outputs": [],
   "source": [
    "i=N-1    # remember that Python starts counting on zero!!! Because of it we use N-1"
   ]
  },
  {
   "cell_type": "code",
   "execution_count": 40,
   "metadata": {},
   "outputs": [
    {
     "name": "stdout",
     "output_type": "stream",
     "text": [
      "[19]\n"
     ]
    }
   ],
   "source": [
    "print mysterious_sequence[i:]"
   ]
  },
  {
   "cell_type": "markdown",
   "metadata": {},
   "source": [
    "Attention! When you use $i$ in a range, linked to a loop, the counter starts with zero and not with one. See below the example:"
   ]
  },
  {
   "cell_type": "code",
   "execution_count": 41,
   "metadata": {},
   "outputs": [
    {
     "name": "stdout",
     "output_type": "stream",
     "text": [
      "[]\n",
      "[1]\n",
      "[1 3]\n",
      "[1 3 5]\n",
      "[1 3 5 9]\n",
      "[ 1  3  5  9 11]\n",
      "[ 1  3  5  9 11 13]\n",
      "[ 1  3  5  9 11 13 15]\n",
      "[ 1  3  5  9 11 13 15 17]\n"
     ]
    }
   ],
   "source": [
    "for i in range(N):\n",
    "    print mysterious_sequence[:i]"
   ]
  },
  {
   "cell_type": "markdown",
   "metadata": {},
   "source": [
    "Observe that the first iteration resulted in an empty array and the last one doesn't show the last number of the set \"mysterious_sequence\"."
   ]
  },
  {
   "cell_type": "markdown",
   "metadata": {},
   "source": [
    "To solve this we need to say that the range includes one more element (N+1):"
   ]
  },
  {
   "cell_type": "code",
   "execution_count": 42,
   "metadata": {},
   "outputs": [
    {
     "name": "stdout",
     "output_type": "stream",
     "text": [
      "[]\n",
      "[1]\n",
      "[1 3]\n",
      "[1 3 5]\n",
      "[1 3 5 9]\n",
      "[ 1  3  5  9 11]\n",
      "[ 1  3  5  9 11 13]\n",
      "[ 1  3  5  9 11 13 15]\n",
      "[ 1  3  5  9 11 13 15 17]\n",
      "[ 1  3  5  9 11 13 15 17 19]\n"
     ]
    }
   ],
   "source": [
    "for i in range(N+1):\n",
    "    print mysterious_sequence[:i]"
   ]
  },
  {
   "cell_type": "markdown",
   "metadata": {},
   "source": [
    "But, if you want to find the exact number of iterations you will need to find other solution. Observe that the empty array is still being shown in the first iteration. Let's understand what are iterations and how we can solve this problem."
   ]
  },
  {
   "cell_type": "markdown",
   "metadata": {},
   "source": [
    "## Learning about iterations - the \"For loop\""
   ]
  },
  {
   "cell_type": "markdown",
   "metadata": {},
   "source": [
    "A synonym for iteration is repetition. More speciffically in programming iteration is the process of doing something again and again, usually to improve it (reference: [Cambridge Dictionary](https://dictionary.cambridge.org/pt/dicionario/ingles/iteration))."
   ]
  },
  {
   "cell_type": "markdown",
   "metadata": {},
   "source": [
    "There are some ways to create an iteration in a programming language. The most common is to use loops with the commands \"for\" or \"while\". By now we will learn how to use a loop with the \"for\" command."
   ]
  },
  {
   "cell_type": "markdown",
   "metadata": {},
   "source": [
    "By consulting the [official Wiki of Python](https://wiki.python.org/moin/ForLoop) you can learn that the function \"range\" in the \"For loop\" accepts the value of a starting point and also an ending point. If you put only one value inside of the parenthesis the compiler interprets that value as the last one and starts counting in zero. Below I wiil specify the start at one. Let's see what happened."
   ]
  },
  {
   "cell_type": "code",
   "execution_count": 43,
   "metadata": {},
   "outputs": [
    {
     "name": "stdout",
     "output_type": "stream",
     "text": [
      "[1]\n",
      "[1 3]\n",
      "[1 3 5]\n",
      "[1 3 5 9]\n",
      "[ 1  3  5  9 11]\n",
      "[ 1  3  5  9 11 13]\n",
      "[ 1  3  5  9 11 13 15]\n",
      "[ 1  3  5  9 11 13 15 17]\n"
     ]
    }
   ],
   "source": [
    "for i in range(1, N):\n",
    "    print mysterious_sequence[:i]"
   ]
  },
  {
   "cell_type": "markdown",
   "metadata": {},
   "source": [
    "Still, the last number of the sequence is not being printed. But you can see that the first iteration is now showing the first number of the \"mysterious_sequence\". To solve this problem I thought about two solutions. Let's check the difference between them:"
   ]
  },
  {
   "cell_type": "code",
   "execution_count": 44,
   "metadata": {},
   "outputs": [
    {
     "name": "stdout",
     "output_type": "stream",
     "text": [
      "[1]\n",
      "[1 3]\n",
      "[1 3 5]\n",
      "[1 3 5 9]\n",
      "[ 1  3  5  9 11]\n",
      "[ 1  3  5  9 11 13]\n",
      "[ 1  3  5  9 11 13 15]\n",
      "[ 1  3  5  9 11 13 15 17]\n",
      "[ 1  3  5  9 11 13 15 17 19]\n"
     ]
    }
   ],
   "source": [
    "for i in range(N):\n",
    "    i=i+1\n",
    "    print mysterious_sequence[:i]"
   ]
  },
  {
   "cell_type": "code",
   "execution_count": 45,
   "metadata": {},
   "outputs": [
    {
     "name": "stdout",
     "output_type": "stream",
     "text": [
      "[1]\n",
      "[1 3]\n",
      "[1 3 5]\n",
      "[1 3 5 9]\n",
      "[ 1  3  5  9 11]\n",
      "[ 1  3  5  9 11 13]\n",
      "[ 1  3  5  9 11 13 15]\n",
      "[ 1  3  5  9 11 13 15 17]\n",
      "[ 1  3  5  9 11 13 15 17 19]\n"
     ]
    }
   ],
   "source": [
    "for i in range(1,N+1):\n",
    "    print mysterious_sequence[:i]"
   ]
  },
  {
   "cell_type": "markdown",
   "metadata": {},
   "source": [
    "See that the result is the same, but the method for reaching the result is different. It is right and acceptable. But could we say that one solution is better than the other one? Yes, we could if we consider the time spent by the computer in each operation. To do this, I will use a module known as \"timeit\"."
   ]
  },
  {
   "cell_type": "code",
   "execution_count": 46,
   "metadata": {},
   "outputs": [
    {
     "name": "stdout",
     "output_type": "stream",
     "text": [
      "10000000 loops, best of 3: 105 ns per loop\n"
     ]
    }
   ],
   "source": [
    "% timeit 'for i in range(N): i=i+1'"
   ]
  },
  {
   "cell_type": "code",
   "execution_count": 47,
   "metadata": {},
   "outputs": [
    {
     "name": "stdout",
     "output_type": "stream",
     "text": [
      "10000000 loops, best of 3: 105 ns per loop\n"
     ]
    }
   ],
   "source": [
    "%timeit 'for i in range(1,N+1)'"
   ]
  },
  {
   "cell_type": "markdown",
   "metadata": {},
   "source": [
    "Which one is better?"
   ]
  },
  {
   "cell_type": "markdown",
   "metadata": {},
   "source": [
    "The iteration shown in the examples above is: print the value of the index, keeping in the next iterations the previous indices. This command is written using the notation $[:i]$."
   ]
  },
  {
   "cell_type": "markdown",
   "metadata": {},
   "source": [
    "## Creating an iterable algorithm to figure out if a given sequence is quadratic:"
   ]
  },
  {
   "cell_type": "markdown",
   "metadata": {},
   "source": [
    "Now, let's use what we've learned about iterations to create an algorithm capable to figure out if a sequence is quadratic or not."
   ]
  },
  {
   "cell_type": "markdown",
   "metadata": {},
   "source": [
    "Let's call again the result of the power of two for the bases from 1 to 10 and also the second list created by subtracting the last element by the previous one:"
   ]
  },
  {
   "cell_type": "code",
   "execution_count": 48,
   "metadata": {},
   "outputs": [
    {
     "name": "stdout",
     "output_type": "stream",
     "text": [
      "[  1   4   9  16  25  36  49  64  81 100]\n"
     ]
    }
   ],
   "source": [
    "print (squares_area)"
   ]
  },
  {
   "cell_type": "code",
   "execution_count": 49,
   "metadata": {},
   "outputs": [
    {
     "name": "stdout",
     "output_type": "stream",
     "text": [
      "[1, 2, 3, 4, 5, 6, 7, 8, 9, 10]\n"
     ]
    }
   ],
   "source": [
    "print (b_list)"
   ]
  },
  {
   "cell_type": "code",
   "execution_count": 50,
   "metadata": {},
   "outputs": [
    {
     "name": "stdout",
     "output_type": "stream",
     "text": [
      "[ 1  3  5  9 11 13 15 17 19]\n"
     ]
    }
   ],
   "source": [
    "print (mysterious_sequence)"
   ]
  },
  {
   "cell_type": "markdown",
   "metadata": {},
   "source": [
    "First, I will create an algorithm to calculate the operation which created the \"mysterious_sequence\". I will create a new parameter named \"subtraction\" which will store the result. I will use the indices of the set \"squares_area\" to subtract the last number from the previous one:"
   ]
  },
  {
   "cell_type": "code",
   "execution_count": 51,
   "metadata": {},
   "outputs": [
    {
     "name": "stdout",
     "output_type": "stream",
     "text": [
      "19\n"
     ]
    }
   ],
   "source": [
    "subtraction = squares_area[-1] - squares_area[-2]\n",
    "print subtraction"
   ]
  },
  {
   "cell_type": "markdown",
   "metadata": {},
   "source": [
    "Observe that the result is equals to the last number of the set \"mysterious_sequence\"."
   ]
  },
  {
   "cell_type": "markdown",
   "metadata": {},
   "source": [
    "Now, how could we apply this operation for all the numbers inside of the set \"squares_area\"? For this, I will represent the index by the letrer $i$ inside of a \"For loop\"."
   ]
  },
  {
   "cell_type": "code",
   "execution_count": 52,
   "metadata": {},
   "outputs": [
    {
     "name": "stdout",
     "output_type": "stream",
     "text": [
      "10\n"
     ]
    }
   ],
   "source": [
    "print (squares_area.size)      # quantity of numbers inside of the set"
   ]
  },
  {
   "cell_type": "code",
   "execution_count": 53,
   "metadata": {},
   "outputs": [],
   "source": [
    "N = squares_area.size           # creating a counter based on the quantity of numbers inside of the set"
   ]
  },
  {
   "cell_type": "code",
   "execution_count": 54,
   "metadata": {},
   "outputs": [
    {
     "name": "stdout",
     "output_type": "stream",
     "text": [
      "19\n",
      "17\n",
      "15\n",
      "13\n",
      "11\n",
      "9\n",
      "7\n",
      "5\n",
      "3\n"
     ]
    },
    {
     "ename": "IndexError",
     "evalue": "index -11 is out of bounds for axis 0 with size 10",
     "output_type": "error",
     "traceback": [
      "\u001b[0;31m---------------------------------------------------------------------------\u001b[0m",
      "\u001b[0;31mIndexError\u001b[0m                                Traceback (most recent call last)",
      "\u001b[0;32m<ipython-input-54-e33206151567>\u001b[0m in \u001b[0;36m<module>\u001b[0;34m()\u001b[0m\n\u001b[1;32m      1\u001b[0m \u001b[0;32mfor\u001b[0m \u001b[0mi\u001b[0m \u001b[0;32min\u001b[0m \u001b[0mrange\u001b[0m\u001b[0;34m(\u001b[0m\u001b[0;36m1\u001b[0m\u001b[0;34m,\u001b[0m\u001b[0mN\u001b[0m\u001b[0;34m+\u001b[0m\u001b[0;36m1\u001b[0m\u001b[0;34m)\u001b[0m\u001b[0;34m:\u001b[0m\u001b[0;34m\u001b[0m\u001b[0m\n\u001b[0;32m----> 2\u001b[0;31m     \u001b[0msubtraction\u001b[0m \u001b[0;34m=\u001b[0m \u001b[0msquares_area\u001b[0m\u001b[0;34m[\u001b[0m\u001b[0;34m-\u001b[0m\u001b[0mi\u001b[0m\u001b[0;34m]\u001b[0m \u001b[0;34m-\u001b[0m \u001b[0msquares_area\u001b[0m\u001b[0;34m[\u001b[0m\u001b[0;34m-\u001b[0m\u001b[0mi\u001b[0m\u001b[0;34m-\u001b[0m\u001b[0;36m1\u001b[0m\u001b[0;34m]\u001b[0m\u001b[0;34m\u001b[0m\u001b[0m\n\u001b[0m\u001b[1;32m      3\u001b[0m     \u001b[0;32mprint\u001b[0m \u001b[0msubtraction\u001b[0m\u001b[0;34m\u001b[0m\u001b[0m\n",
      "\u001b[0;31mIndexError\u001b[0m: index -11 is out of bounds for axis 0 with size 10"
     ]
    }
   ],
   "source": [
    "for i in range(1,N+1):\n",
    "    subtraction = squares_area[-i] - squares_area[-i-1]\n",
    "    print subtraction"
   ]
  },
  {
   "cell_type": "markdown",
   "metadata": {},
   "source": [
    "But, we have a problem here. We have more indices than numbers. This happened because if you do not consider the number zero in the squares_area set the subtraction set will have one number less. To solve this we have two options. Or we create a set with less one number and chage the number of iterations:"
   ]
  },
  {
   "cell_type": "code",
   "execution_count": 55,
   "metadata": {},
   "outputs": [
    {
     "name": "stdout",
     "output_type": "stream",
     "text": [
      "19\n",
      "17\n",
      "15\n",
      "13\n",
      "11\n",
      "9\n",
      "7\n",
      "5\n",
      "3\n"
     ]
    }
   ],
   "source": [
    "for i in range(1,N):    # before I was using N+1 instead of N. With this I reduced the number of iterations.\n",
    "    subtraction = squares_area[-i] - squares_area[-i-1]\n",
    "    print subtraction"
   ]
  },
  {
   "cell_type": "markdown",
   "metadata": {},
   "source": [
    "Or I add the zero to the squares_area set. See bellow how to use the command np.append:"
   ]
  },
  {
   "cell_type": "code",
   "execution_count": 56,
   "metadata": {},
   "outputs": [
    {
     "name": "stdout",
     "output_type": "stream",
     "text": [
      "[  0   1   4   9  16  25  36  49  64  81 100]\n"
     ]
    }
   ],
   "source": [
    "squares_area = np.append(0, squares_area)    # adding a single value in the beginning of the sequence\n",
    "print squares_area"
   ]
  },
  {
   "cell_type": "code",
   "execution_count": 57,
   "metadata": {},
   "outputs": [
    {
     "name": "stdout",
     "output_type": "stream",
     "text": [
      "[  0   1   4   9  16  25  36  49  64  81 100   0]\n"
     ]
    }
   ],
   "source": [
    "squares_area = np.append(squares_area, 0)     # Adding a single value in the end of the sequence\n",
    "print squares_area"
   ]
  },
  {
   "cell_type": "code",
   "execution_count": 58,
   "metadata": {},
   "outputs": [
    {
     "name": "stdout",
     "output_type": "stream",
     "text": [
      "[  0   1   4   9  16  25   0  36  49  64  81 100   0]\n"
     ]
    }
   ],
   "source": [
    "squares_area = np.insert(squares_area, 6, 0)    # adding a single value in a specific place > np.insert(array, index, value)\n",
    "print squares_area"
   ]
  },
  {
   "cell_type": "markdown",
   "metadata": {},
   "source": [
    "Ok, now let's continue by reseting the squares_area parameter and inserting the zero in the right position:"
   ]
  },
  {
   "cell_type": "code",
   "execution_count": 59,
   "metadata": {},
   "outputs": [
    {
     "name": "stdout",
     "output_type": "stream",
     "text": [
      "[  1   4   9  16  25  36  49  64  81 100]\n"
     ]
    }
   ],
   "source": [
    "squares_area = array * array\n",
    "print squares_area"
   ]
  },
  {
   "cell_type": "code",
   "execution_count": 60,
   "metadata": {},
   "outputs": [
    {
     "name": "stdout",
     "output_type": "stream",
     "text": [
      "[  0   1   4   9  16  25  36  49  64  81 100]\n"
     ]
    }
   ],
   "source": [
    "squares_area = np.append(0, squares_area)    # adding a single value in the beginning of the sequence\n",
    "print squares_area"
   ]
  },
  {
   "cell_type": "markdown",
   "metadata": {},
   "source": [
    "Now I will calculate again the \"For loop\" using this array:"
   ]
  },
  {
   "cell_type": "code",
   "execution_count": 61,
   "metadata": {},
   "outputs": [
    {
     "name": "stdout",
     "output_type": "stream",
     "text": [
      "19\n",
      "17\n",
      "15\n",
      "13\n",
      "11\n",
      "9\n",
      "7\n",
      "5\n",
      "3\n",
      "1\n"
     ]
    }
   ],
   "source": [
    "for i in range(1,N+1):    # before I was using N+1 instead of N. With this I reduced the number of iterations.\n",
    "    subtraction = squares_area[-i] - squares_area[-i-1]\n",
    "    print subtraction"
   ]
  },
  {
   "cell_type": "markdown",
   "metadata": {},
   "source": [
    "But for applying this algorithm to any sequence it's easier to consider that the first iteration produces a set with one number less. This is what really happen when we do the calculation by hand. Do you remember? Let's see again: "
   ]
  },
  {
   "cell_type": "code",
   "execution_count": 62,
   "metadata": {},
   "outputs": [
    {
     "data": {
      "image/jpeg": "[encoded data removed]",
      "text/plain": [
       "<IPython.core.display.Image object>"
      ]
     },
     "execution_count": 62,
     "metadata": {},
     "output_type": "execute_result"
    }
   ],
   "source": [
    "from IPython.display import Image\n",
    "Image(\"images/quadratic_sequence.jpg\")"
   ]
  },
  {
   "cell_type": "markdown",
   "metadata": {},
   "source": [
    "I will reset again the parameter squares_area:"
   ]
  },
  {
   "cell_type": "code",
   "execution_count": 63,
   "metadata": {},
   "outputs": [
    {
     "name": "stdout",
     "output_type": "stream",
     "text": [
      "[  1   4   9  16  25  36  49  64  81 100]\n"
     ]
    }
   ],
   "source": [
    "squares_area = array * array\n",
    "print squares_area"
   ]
  },
  {
   "cell_type": "markdown",
   "metadata": {},
   "source": [
    "And will now create a loop for calculating the subtraction:"
   ]
  },
  {
   "cell_type": "code",
   "execution_count": 64,
   "metadata": {},
   "outputs": [
    {
     "name": "stdout",
     "output_type": "stream",
     "text": [
      "19\n",
      "17\n",
      "15\n",
      "13\n",
      "11\n",
      "9\n",
      "7\n",
      "5\n",
      "3\n"
     ]
    }
   ],
   "source": [
    "for i in range(1,N):    # before I was using N+1 instead of N. With this I reduced the number of iterations.\n",
    "    subtraction = squares_area[-i] - squares_area[-i-1]\n",
    "    print subtraction"
   ]
  },
  {
   "cell_type": "markdown",
   "metadata": {},
   "source": [
    "Ok. This algorithm was able to find the first iteration. But how can we reach the <b>ratio factor</b> in order to find the <b>convergence</b>? It is necessary to create a new array with the subtraction results and again repeat the same subtraction with the new set of values, right?"
   ]
  },
  {
   "cell_type": "markdown",
   "metadata": {},
   "source": [
    "First we need to declare a new list or array which will be empty in the beginning and will be populated with the results. This time I will use a list."
   ]
  },
  {
   "cell_type": "code",
   "execution_count": 74,
   "metadata": {},
   "outputs": [
    {
     "name": "stdout",
     "output_type": "stream",
     "text": [
      "[19, 17, 15, 13, 11, 9, 7, 5, 3]\n"
     ]
    }
   ],
   "source": [
    "result = []\n",
    "for i in range(1,N):    # before I was using N+1 instead of N. With this I reduced the number of iterations.\n",
    "    subtraction = squares_area[-i] - squares_area[-i-1]\n",
    "    result.append(subtraction)\n",
    "print result"
   ]
  },
  {
   "cell_type": "markdown",
   "metadata": {},
   "source": [
    "Now, I will calculate the next iteration to find the convergence of this sequence:"
   ]
  },
  {
   "cell_type": "code",
   "execution_count": 71,
   "metadata": {},
   "outputs": [
    {
     "ename": "IndexError",
     "evalue": "list index out of range",
     "output_type": "error",
     "traceback": [
      "\u001b[0;31m---------------------------------------------------------------------------\u001b[0m",
      "\u001b[0;31mIndexError\u001b[0m                                Traceback (most recent call last)",
      "\u001b[0;32m<ipython-input-71-f18ac13b0534>\u001b[0m in \u001b[0;36m<module>\u001b[0;34m()\u001b[0m\n\u001b[1;32m      1\u001b[0m \u001b[0mresult_2\u001b[0m \u001b[0;34m=\u001b[0m\u001b[0;34m[\u001b[0m\u001b[0;34m]\u001b[0m\u001b[0;34m\u001b[0m\u001b[0m\n\u001b[1;32m      2\u001b[0m \u001b[0;32mfor\u001b[0m \u001b[0mi\u001b[0m \u001b[0;32min\u001b[0m \u001b[0mrange\u001b[0m\u001b[0;34m(\u001b[0m\u001b[0;36m1\u001b[0m\u001b[0;34m,\u001b[0m\u001b[0mN\u001b[0m\u001b[0;34m)\u001b[0m\u001b[0;34m:\u001b[0m    \u001b[0;31m# before I was using N+1 instead of N. With this I reduced the number of iterations.\u001b[0m\u001b[0;34m\u001b[0m\u001b[0m\n\u001b[0;32m----> 3\u001b[0;31m     \u001b[0msubtraction_2\u001b[0m \u001b[0;34m=\u001b[0m \u001b[0mresult\u001b[0m\u001b[0;34m[\u001b[0m\u001b[0;34m-\u001b[0m\u001b[0mi\u001b[0m\u001b[0;34m]\u001b[0m \u001b[0;34m-\u001b[0m \u001b[0mresult\u001b[0m\u001b[0;34m[\u001b[0m\u001b[0;34m-\u001b[0m\u001b[0mi\u001b[0m\u001b[0;34m-\u001b[0m\u001b[0;36m1\u001b[0m\u001b[0;34m]\u001b[0m\u001b[0;34m\u001b[0m\u001b[0m\n\u001b[0m\u001b[1;32m      4\u001b[0m     \u001b[0mresult_2\u001b[0m\u001b[0;34m.\u001b[0m\u001b[0mappend\u001b[0m\u001b[0;34m(\u001b[0m\u001b[0msubtraction_2\u001b[0m\u001b[0;34m)\u001b[0m\u001b[0;34m\u001b[0m\u001b[0m\n\u001b[1;32m      5\u001b[0m \u001b[0;32mprint\u001b[0m \u001b[0mresult_2\u001b[0m\u001b[0;34m\u001b[0m\u001b[0m\n",
      "\u001b[0;31mIndexError\u001b[0m: list index out of range"
     ]
    }
   ],
   "source": [
    "result_2 =[]\n",
    "for i in range(1,N):    # before I was using N+1 instead of N. With this I reduced the number of iterations.\n",
    "    subtraction_2 = result[-i] - result[-i-1]\n",
    "    result_2.append(subtraction_2)\n",
    "print result_2"
   ]
  },
  {
   "cell_type": "markdown",
   "metadata": {},
   "source": [
    "The same problem as before, this new set has one number less. To solve this let's adjust the counter:"
   ]
  },
  {
   "cell_type": "code",
   "execution_count": 72,
   "metadata": {},
   "outputs": [
    {
     "name": "stdout",
     "output_type": "stream",
     "text": [
      "[-2, -2, -2, -2, -2, -2, -2, -2]\n"
     ]
    }
   ],
   "source": [
    "result_2 =[]\n",
    "for i in range(1,N-1):    # before I was using N+1 instead of N. With this I reduced the number of iterations.\n",
    "    subtraction_2 = result[-i] - result[-i-1]\n",
    "    result_2.append(subtraction_2)\n",
    "print result_2"
   ]
  },
  {
   "cell_type": "markdown",
   "metadata": {},
   "source": [
    "Note that this result is not satisfatory because the first iteration produced a sequence in descending order, which resulted in negative numbers for the last iteration. So, to fix this code we need to go back to the first loop and sort the result in ascendig order."
   ]
  },
  {
   "cell_type": "code",
   "execution_count": 77,
   "metadata": {},
   "outputs": [
    {
     "name": "stdout",
     "output_type": "stream",
     "text": [
      "[3, 5, 7, 9, 11, 13, 15, 17, 19]\n"
     ]
    }
   ],
   "source": [
    "result = []\n",
    "for i in range(1,N):    \n",
    "    subtraction = squares_area[-i] - squares_area[-i-1]\n",
    "    result.append(subtraction)\n",
    "    result.sort()                       # sort the list in ascending order\n",
    "print result"
   ]
  },
  {
   "cell_type": "markdown",
   "metadata": {},
   "source": [
    "And now, let's repeat the next iteration:"
   ]
  },
  {
   "cell_type": "code",
   "execution_count": 78,
   "metadata": {},
   "outputs": [
    {
     "name": "stdout",
     "output_type": "stream",
     "text": [
      "[2, 2, 2, 2, 2, 2, 2, 2]\n"
     ]
    }
   ],
   "source": [
    "result_2 =[]\n",
    "for i in range(1,N-1):    # before I was using N+1 instead of N. With this I reduced the number of iterations.\n",
    "    subtraction_2 = result[-i] - result[-i-1]\n",
    "    result_2.append(subtraction_2)\n",
    "print result_2"
   ]
  },
  {
   "cell_type": "markdown",
   "metadata": {},
   "source": [
    "Ok. Now we can see that the result is what we were expecting. Could we now put both codes in one function?"
   ]
  },
  {
   "cell_type": "code",
   "execution_count": null,
   "metadata": {
    "collapsed": true
   },
   "outputs": [],
   "source": []
  },
  {
   "cell_type": "code",
   "execution_count": null,
   "metadata": {
    "collapsed": true
   },
   "outputs": [],
   "source": []
  },
  {
   "cell_type": "code",
   "execution_count": null,
   "metadata": {
    "collapsed": true
   },
   "outputs": [],
   "source": []
  },
  {
   "cell_type": "markdown",
   "metadata": {},
   "source": [
    "## Comparing graphically linear and geometric sequences"
   ]
  },
  {
   "cell_type": "markdown",
   "metadata": {},
   "source": [
    "Now, let's see the results in 2D. I will create a graph putting this two sets of values - result of the power of 2 and the <b>linear sequence</b> obtained by subtracting each result by the previous one. "
   ]
  },
  {
   "cell_type": "code",
   "execution_count": null,
   "metadata": {},
   "outputs": [],
   "source": [
    "squares = squares_area\n",
    "print squares"
   ]
  },
  {
   "cell_type": "code",
   "execution_count": null,
   "metadata": {},
   "outputs": [],
   "source": [
    "linear_sequence = (1,3,5,7,9,11,13,15,17,19)   # create a list with the values calculated above\n",
    "linear_sequence = np.array(linear_sequence)   # converting the list into an array.\n",
    "print linear_sequence"
   ]
  },
  {
   "cell_type": "markdown",
   "metadata": {},
   "source": [
    "To compare them I need to set the x axis with a common value. I will use the set <b>b_list</b>, which represent the value of the base of the power. "
   ]
  },
  {
   "cell_type": "code",
   "execution_count": null,
   "metadata": {},
   "outputs": [],
   "source": [
    "b_list = array\n",
    "print b_list"
   ]
  },
  {
   "cell_type": "code",
   "execution_count": null,
   "metadata": {},
   "outputs": [],
   "source": [
    "import matplotlib.pyplot as plt\n",
    "\n",
    "fig, ax = plt.subplots(figsize=(5, 5))\n",
    "\n",
    "ax.set_ylim(0, 110)\n",
    "ax.set_xlim(0, 12)\n",
    "ax.grid(True)\n",
    "\n",
    "plt.plot(b_list, squares, marker='o', color='b')\n",
    "plt.plot(b_list, linear_sequence, marker='o', color='r')\n",
    "\n",
    "plt.show()\n",
    "    "
   ]
  },
  {
   "cell_type": "markdown",
   "metadata": {},
   "source": [
    "The red straight line plotted above is know as a <b>linear sequence</b> and represents a set of numbers which increases (or decreases) by the same amount each time."
   ]
  },
  {
   "cell_type": "markdown",
   "metadata": {},
   "source": [
    "The blue curve plotted above is know as a <b>exponential curve</b> (because it was created by an exponential operation, that is, the power of a number). The set of numbers which shapes the curve is known as <b>geometric sequence</b>."
   ]
  },
  {
   "cell_type": "markdown",
   "metadata": {},
   "source": [
    "## Exercise:"
   ]
  },
  {
   "cell_type": "markdown",
   "metadata": {},
   "source": [
    "Change the numbers inside of the code bellow to see what means each of them."
   ]
  },
  {
   "cell_type": "code",
   "execution_count": null,
   "metadata": {
    "collapsed": true
   },
   "outputs": [],
   "source": [
    "fig, ax = plt.subplots(figsize=(15, 15))\n",
    "\n",
    "ax.broken_barh([(81, 19)], (81, 19), facecolors=('#9400D3'))\n",
    "\n",
    "plt.gca().set_aspect('equal', adjustable='box')\n",
    "\n",
    "ax.set_ylim(0, 105)\n",
    "ax.set_xlim(0, 105)\n",
    "ax.grid(True, which='both', color='black', linestyle=':')\n",
    "\n",
    "plt.minorticks_on()\n",
    "\n",
    "plt.show()\n"
   ]
  },
  {
   "cell_type": "markdown",
   "metadata": {},
   "source": [
    "## Power of three"
   ]
  },
  {
   "cell_type": "markdown",
   "metadata": {},
   "source": [
    "You can also calculate the power using a pre-defined function of the module $math$. See below:"
   ]
  },
  {
   "cell_type": "code",
   "execution_count": null,
   "metadata": {
    "collapsed": true
   },
   "outputs": [],
   "source": [
    "import math"
   ]
  },
  {
   "cell_type": "code",
   "execution_count": null,
   "metadata": {},
   "outputs": [],
   "source": [
    "math.pow(2, 3) # the first number is the base of the power and the second value is the value of the exponent"
   ]
  },
  {
   "cell_type": "markdown",
   "metadata": {},
   "source": [
    "But, this option calculates only for one number each time. To calculate the power of three for an array follow the code below:"
   ]
  },
  {
   "cell_type": "code",
   "execution_count": null,
   "metadata": {},
   "outputs": [],
   "source": [
    "b_list**3    # 3 is the exponent of the power."
   ]
  },
  {
   "cell_type": "markdown",
   "metadata": {},
   "source": [
    "Below I show an image with a demonstration for the decomposition of the power of three. The goal is to find a linear sequence."
   ]
  },
  {
   "cell_type": "code",
   "execution_count": null,
   "metadata": {},
   "outputs": [],
   "source": [
    "from IPython.display import Image\n",
    "Image(\"images/cubic_sequence.jpg\")"
   ]
  },
  {
   "cell_type": "markdown",
   "metadata": {},
   "source": [
    "In this case, this sequence has converged after three iteractions and the ratio factor is a multiple of three. The linear sequence is equals to: (12, 18, 24, 30, ...)."
   ]
  },
  {
   "cell_type": "markdown",
   "metadata": {},
   "source": [
    "## Exercise:"
   ]
  },
  {
   "cell_type": "markdown",
   "metadata": {},
   "source": [
    "<p>(A) Calculate the power of 4 using bases from 1 to 10. </p>\n",
    "<p>(B) Create a set for the results of the power of 4.</p>\n",
    "<p>(C) Convert the list of values created above into an array.</p>\n",
    "<p>(D) Plot the base versus the result of power of 4.</p>\n",
    "<p>(E) Try to find the ratio factor of this sequence.</p>"
   ]
  },
  {
   "cell_type": "raw",
   "metadata": {},
   "source": [
    "** You can use this boxes as a calculator. The operations are:\n",
    "Sum:  +    \n",
    "Subtraction:  -\n",
    "Multiplication:  *\n",
    "Division:  /\n",
    "Power: **"
   ]
  },
  {
   "cell_type": "markdown",
   "metadata": {},
   "source": [
    "Answer for the power of 4:"
   ]
  },
  {
   "cell_type": "code",
   "execution_count": null,
   "metadata": {
    "collapsed": true
   },
   "outputs": [],
   "source": [
    "from IPython.display import Image\n",
    "Image(\"images/4_sequence.jpg\")"
   ]
  },
  {
   "cell_type": "markdown",
   "metadata": {},
   "source": [
    "## Developing an algorithm to calculate the ratio factor of any geometric sequence"
   ]
  },
  {
   "cell_type": "markdown",
   "metadata": {},
   "source": [
    "Do you see any pattern in the operations calculated above? Let's try to find them. I think it's possible to create an algorithm based on some repreated information seen above."
   ]
  },
  {
   "cell_type": "code",
   "execution_count": null,
   "metadata": {
    "collapsed": true
   },
   "outputs": [],
   "source": []
  }
 ],
 "metadata": {
  "kernelspec": {
   "display_name": "Python 2",
   "language": "python",
   "name": "python2"
  },
  "language_info": {
   "codemirror_mode": {
    "name": "ipython",
    "version": 2
   },
   "file_extension": ".py",
   "mimetype": "text/x-python",
   "name": "python",
   "nbconvert_exporter": "python",
   "pygments_lexer": "ipython2",
   "version": "2.7.14"
  }
 },
 "nbformat": 4,
 "nbformat_minor": 2
}
